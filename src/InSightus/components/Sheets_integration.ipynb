{
 "cells": [
  {
   "cell_type": "code",
   "execution_count": 113,
   "metadata": {},
   "outputs": [],
   "source": [
    "import pandas as pd\n",
    "import gspread\n",
    "from google.auth.transport.requests import Request\n",
    "from google.auth import load_credentials_from_file\n",
    "from google.oauth2.service_account import Credentials\n",
    "import os"
   ]
  },
  {
   "cell_type": "code",
   "execution_count": 114,
   "metadata": {},
   "outputs": [
    {
     "data": {
      "text/plain": [
       "True"
      ]
     },
     "execution_count": 114,
     "metadata": {},
     "output_type": "execute_result"
    }
   ],
   "source": [
    "# Load environment variables from .env\n",
    "from dotenv import load_dotenv\n",
    "load_dotenv()"
   ]
  },
  {
   "cell_type": "code",
   "execution_count": 115,
   "metadata": {},
   "outputs": [],
   "source": [
    "google_sheets_api_key = os.getenv(\"GOOGLE_SHEET_API_KEY\")"
   ]
  },
  {
   "cell_type": "code",
   "execution_count": 116,
   "metadata": {},
   "outputs": [],
   "source": [
    "def load_csv(file_path):\n",
    "    return pd.read_csv(file_path)"
   ]
  },
  {
   "cell_type": "code",
   "execution_count": 117,
   "metadata": {},
   "outputs": [],
   "source": [
    "def authenticate_google_sheets(credentials_file=\"/Users/Stark0104/Desktop/Coding/ML PROJECT/InSightus/src/InSightus/credentials.json\"):\n",
    "    # Define the scope of the application\n",
    "    scopes = [\"https://www.googleapis.com/auth/spreadsheets\", \"https://www.googleapis.com/auth/drive\"]\n",
    "    \n",
    "    # Authenticate using the service account credentials\n",
    "    creds = Credentials.from_service_account_file(credentials_file, scopes=scopes)\n",
    "    \n",
    "    # If credentials are expired, refresh them\n",
    "    if creds and creds.expired and creds.refresh_token:\n",
    "        creds.refresh(Request())\n",
    "\n",
    "    client = gspread.authorize(creds)\n",
    "    return client\n"
   ]
  },
  {
   "cell_type": "code",
   "execution_count": 118,
   "metadata": {},
   "outputs": [],
   "source": [
    "# Get columns from CSV file\n",
    "def get_columns_from_csv(df):\n",
    "    return df.columns.tolist()\n",
    "\n",
    "# Get columns from Google Sheets\n",
    "def get_columns_from_sheet(sheet):\n",
    "    return sheet.row_values(2)"
   ]
  },
  {
   "cell_type": "code",
   "execution_count": 120,
   "metadata": {},
   "outputs": [
    {
     "data": {
      "text/plain": [
       "['month', 'credit', 'debit', 'savings', 'status', 'total', 'outlier', 'Home']"
      ]
     },
     "execution_count": 120,
     "metadata": {},
     "output_type": "execute_result"
    }
   ],
   "source": [
    "def test_google_sheets():\n",
    "    try:\n",
    "        # Authenticate\n",
    "        client = authenticate_google_sheets(\"/Users/Stark0104/Desktop/Coding/ML PROJECT/InSightus/src/InSightus/credentials.json\")\n",
    "        \n",
    "        # Open your Google Sheets file (replace with your Google Sheet ID)\n",
    "        sheet = client.open_by_url(\"https://docs.google.com/spreadsheets/d/1YlLMz7Aq4R_UiIiU0iBom7xdPPZKbf_QyIH66vmchVA/edit?gid=0#gid=0\").sheet1  # or use open_by_url\n",
    "\n",
    "        # Read a value from the sheet to verify access\n",
    "        column = get_columns_from_sheet(sheet)\n",
    "    except Exception as e:\n",
    "        print(f\"Error accessing Google Sheets: {e}\")\n",
    "    return column\n",
    "\n",
    "# Run the test function\n",
    "test_google_sheets()\n"
   ]
  },
  {
   "cell_type": "code",
   "execution_count": null,
   "metadata": {},
   "outputs": [],
   "source": []
  }
 ],
 "metadata": {
  "kernelspec": {
   "display_name": "Breakout",
   "language": "python",
   "name": "python3"
  },
  "language_info": {
   "codemirror_mode": {
    "name": "ipython",
    "version": 3
   },
   "file_extension": ".py",
   "mimetype": "text/x-python",
   "name": "python",
   "nbconvert_exporter": "python",
   "pygments_lexer": "ipython3",
   "version": "3.10.15"
  }
 },
 "nbformat": 4,
 "nbformat_minor": 2
}
